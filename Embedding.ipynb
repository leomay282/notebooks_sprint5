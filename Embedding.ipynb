{
  "nbformat": 4,
  "nbformat_minor": 0,
  "metadata": {
    "colab": {
      "provenance": [],
      "include_colab_link": true
    },
    "kernelspec": {
      "name": "python3",
      "display_name": "Python 3"
    },
    "language_info": {
      "name": "python"
    }
  },
  "cells": [
    {
      "cell_type": "markdown",
      "metadata": {
        "id": "view-in-github",
        "colab_type": "text"
      },
      "source": [
        "<a href=\"https://colab.research.google.com/github/leomay282/notebooks_sprint5/blob/dev/Embedding.ipynb\" target=\"_parent\"><img src=\"https://colab.research.google.com/assets/colab-badge.svg\" alt=\"Open In Colab\"/></a>"
      ]
    },
    {
      "cell_type": "code",
      "source": [
        "import nltk                         # NLP toolbox\n",
        "from os import getcwd\n",
        "import pandas as pd                 # Library for Dataframes\n",
        "from nltk.corpus import twitter_samples\n",
        "import matplotlib.pyplot as plt     # Library for visualization\n",
        "import numpy as np\n",
        "\n",
        "nltk.download('twitter_samples')"
      ],
      "metadata": {
        "colab": {
          "base_uri": "https://localhost:8080/"
        },
        "id": "bTFS_0NQ4lOz",
        "outputId": "38132612-ab05-4e7d-9aff-49bbf4a380be"
      },
      "execution_count": null,
      "outputs": [
        {
          "output_type": "stream",
          "name": "stderr",
          "text": [
            "[nltk_data] Downloading package twitter_samples to /root/nltk_data...\n",
            "[nltk_data]   Unzipping corpora/twitter_samples.zip.\n"
          ]
        },
        {
          "output_type": "execute_result",
          "data": {
            "text/plain": [
              "True"
            ]
          },
          "metadata": {},
          "execution_count": 1
        }
      ]
    },
    {
      "cell_type": "code",
      "source": [
        "# select the set of positive and negative tweets\n",
        "all_positive_tweets = twitter_samples.strings('positive_tweets.json')\n",
        "all_negative_tweets = twitter_samples.strings('negative_tweets.json')"
      ],
      "metadata": {
        "id": "42R-jQ8n4oXD"
      },
      "execution_count": null,
      "outputs": []
    },
    {
      "cell_type": "code",
      "source": [
        "all_positive_tweets[0]"
      ],
      "metadata": {
        "colab": {
          "base_uri": "https://localhost:8080/",
          "height": 35
        },
        "id": "eqV7K80-4-I5",
        "outputId": "829c7f76-c5e2-4a08-b27d-bd7fb5737b81"
      },
      "execution_count": null,
      "outputs": [
        {
          "output_type": "execute_result",
          "data": {
            "text/plain": [
              "'#FollowFriday @France_Inte @PKuchly57 @Milipol_Paris for being top engaged members in my community this week :)'"
            ],
            "application/vnd.google.colaboratory.intrinsic+json": {
              "type": "string"
            }
          },
          "metadata": {},
          "execution_count": 3
        }
      ]
    },
    {
      "cell_type": "code",
      "source": [
        "all_negative_tweets[0]"
      ],
      "metadata": {
        "colab": {
          "base_uri": "https://localhost:8080/",
          "height": 35
        },
        "id": "GEJTkMET5rOQ",
        "outputId": "38417ba9-4e52-40be-f65a-008d9c5c0d83"
      },
      "execution_count": null,
      "outputs": [
        {
          "output_type": "execute_result",
          "data": {
            "text/plain": [
              "'hopeless for tmr :('"
            ],
            "application/vnd.google.colaboratory.intrinsic+json": {
              "type": "string"
            }
          },
          "metadata": {},
          "execution_count": 4
        }
      ]
    },
    {
      "cell_type": "code",
      "source": [
        "tweets = all_positive_tweets + all_negative_tweets ## Concatenate the lists.\n",
        "labels = np.append(np.ones((len(all_positive_tweets),1)), np.zeros((len(all_negative_tweets),1)), axis = 0)"
      ],
      "metadata": {
        "id": "5DUoZrMs58PH"
      },
      "execution_count": null,
      "outputs": []
    },
    {
      "cell_type": "code",
      "source": [
        "tweets[:10]"
      ],
      "metadata": {
        "colab": {
          "base_uri": "https://localhost:8080/"
        },
        "id": "6X8gD-lb7GB2",
        "outputId": "acc95e6f-6ce7-47b1-bd1a-358c8ab1dda9"
      },
      "execution_count": null,
      "outputs": [
        {
          "output_type": "execute_result",
          "data": {
            "text/plain": [
              "['#FollowFriday @France_Inte @PKuchly57 @Milipol_Paris for being top engaged members in my community this week :)',\n",
              " '@Lamb2ja Hey James! How odd :/ Please call our Contact Centre on 02392441234 and we will be able to assist you :) Many thanks!',\n",
              " '@DespiteOfficial we had a listen last night :) As You Bleed is an amazing track. When are you in Scotland?!',\n",
              " '@97sides CONGRATS :)',\n",
              " 'yeaaaah yippppy!!!  my accnt verified rqst has succeed got a blue tick mark on my fb profile :) in 15 days',\n",
              " '@BhaktisBanter @PallaviRuhail This one is irresistible :)\\n#FlipkartFashionFriday http://t.co/EbZ0L2VENM',\n",
              " \"We don't like to keep our lovely customers waiting for long! We hope you enjoy! Happy Friday! - LWWF :) https://t.co/smyYriipxI\",\n",
              " '@Impatientraider On second thought, there’s just not enough time for a DD :) But new shorts entering system. Sheep must be buying.',\n",
              " 'Jgh , but we have to go to Bayan :D bye',\n",
              " 'As an act of mischievousness, am calling the ETL layer of our in-house warehousing app Katamari.\\n\\nWell… as the name implies :p.']"
            ]
          },
          "metadata": {},
          "execution_count": 6
        }
      ]
    },
    {
      "cell_type": "code",
      "source": [
        "labels[:10]"
      ],
      "metadata": {
        "colab": {
          "base_uri": "https://localhost:8080/"
        },
        "id": "cYo7fD0F7K0N",
        "outputId": "a0ecca7b-053c-4695-a979-1d7e920cd345"
      },
      "execution_count": null,
      "outputs": [
        {
          "output_type": "execute_result",
          "data": {
            "text/plain": [
              "array([[1.],\n",
              "       [1.],\n",
              "       [1.],\n",
              "       [1.],\n",
              "       [1.],\n",
              "       [1.],\n",
              "       [1.],\n",
              "       [1.],\n",
              "       [1.],\n",
              "       [1.]])"
            ]
          },
          "metadata": {},
          "execution_count": 7
        }
      ]
    },
    {
      "cell_type": "code",
      "source": [
        "from sklearn.model_selection import train_test_split"
      ],
      "metadata": {
        "id": "r29CAIm77PgH"
      },
      "execution_count": null,
      "outputs": []
    },
    {
      "cell_type": "code",
      "source": [
        "X_train, X_test, y_train, y_test = train_test_split(tweets, labels,  test_size=0.2, shuffle=True, random_state=30)"
      ],
      "metadata": {
        "id": "Fz0R692Z7gG8"
      },
      "execution_count": null,
      "outputs": []
    },
    {
      "cell_type": "code",
      "source": [
        "nltk.download('stopwords')"
      ],
      "metadata": {
        "colab": {
          "base_uri": "https://localhost:8080/"
        },
        "id": "hZM7lWX6AOB0",
        "outputId": "fe3433f2-2517-48f8-b016-fc2963cffda7"
      },
      "execution_count": null,
      "outputs": [
        {
          "output_type": "stream",
          "name": "stderr",
          "text": [
            "[nltk_data] Downloading package stopwords to /root/nltk_data...\n",
            "[nltk_data]   Unzipping corpora/stopwords.zip.\n"
          ]
        },
        {
          "output_type": "execute_result",
          "data": {
            "text/plain": [
              "True"
            ]
          },
          "metadata": {},
          "execution_count": 10
        }
      ]
    },
    {
      "cell_type": "code",
      "source": [
        "import re\n",
        "import string\n",
        "\n",
        "from nltk.corpus import stopwords\n",
        "from nltk.stem import PorterStemmer\n",
        "from nltk.tokenize import TweetTokenizer\n",
        "\n",
        "def process_tweet(tweet):\n",
        "    '''\n",
        "    Input:\n",
        "        tweet: a string containing a tweet\n",
        "    Output:\n",
        "        tweets_clean: a list of words containing the processed tweet\n",
        "\n",
        "    '''\n",
        "    stemmer = PorterStemmer()\n",
        "    stopwords_english = stopwords.words('english')\n",
        "    # remove stock market tickers like $GE\n",
        "    tweet = re.sub(r'\\$\\w*', '', tweet)\n",
        "    # remove old style retweet text \"RT\"\n",
        "    tweet = re.sub(r'^RT[\\s]+', '', tweet)\n",
        "    # remove hyperlinks\n",
        "    tweet = re.sub(r'https?:\\/\\/.*[\\r\\n]*', '', tweet)\n",
        "    # remove hashtags\n",
        "    # only removing the hash # sign from the word\n",
        "    tweet = re.sub(r'#', '', tweet)\n",
        "    # tokenize tweets\n",
        "    tokenizer = TweetTokenizer(preserve_case=False, strip_handles=True,\n",
        "                               reduce_len=True)\n",
        "    tweet_tokens = tokenizer.tokenize(tweet)\n",
        "\n",
        "    tweets_clean = []\n",
        "    for word in tweet_tokens:\n",
        "        if (word not in stopwords_english and  # remove stopwords\n",
        "            word not in string.punctuation):  # remove punctuation\n",
        "            # tweets_clean.append(word)\n",
        "            stem_word = stemmer.stem(word)  # stemming word\n",
        "            tweets_clean.append(stem_word)\n",
        "\n",
        "    return tweets_clean"
      ],
      "metadata": {
        "id": "HMYtJ_P7-qQZ"
      },
      "execution_count": null,
      "outputs": []
    },
    {
      "cell_type": "code",
      "source": [
        "# Conjunto de palabras de mi conjunto de training limpio.// Se podria hacer para todo el corpus sin limpiar (para definir mi propia lista de stopwords/para saber la distribucion de palabras, etc)\n",
        "train_words = []\n",
        "for tweet in X_train:\n",
        "  clean_tweet = process_tweet(tweet)\n",
        "  train_words.extend(clean_tweet)"
      ],
      "metadata": {
        "id": "FIKH9ViaARmd"
      },
      "execution_count": null,
      "outputs": []
    },
    {
      "cell_type": "code",
      "source": [
        "# Con esto creamos el diccionario pero con las palabras agrupadas y contadas\n",
        "from collections import Counter"
      ],
      "metadata": {
        "id": "Xeompp6jAYF6"
      },
      "execution_count": null,
      "outputs": []
    },
    {
      "cell_type": "code",
      "source": [
        "train_vocab_freq = Counter(train_words)\n",
        "train_vocab_freq\n",
        "# con NLTK?wordfrecuency puedo hacer lo mismo"
      ],
      "metadata": {
        "id": "fC9BFHTsAeBa",
        "outputId": "8cae48ba-d94b-4d32-d6aa-bee063f8c783",
        "colab": {
          "base_uri": "https://localhost:8080/"
        }
      },
      "execution_count": null,
      "outputs": [
        {
          "output_type": "execute_result",
          "data": {
            "text/plain": [
              "Counter({'somi': 1,\n",
              "         'definit': 22,\n",
              "         'much': 174,\n",
              "         'beauti': 47,\n",
              "         'better': 74,\n",
              "         'ever': 45,\n",
              "         'guess': 22,\n",
              "         'peopl': 99,\n",
              "         'jealou': 10,\n",
              "         'bc': 48,\n",
              "         \"ain't\": 9,\n",
              "         ':-)': 551,\n",
              "         'home': 76,\n",
              "         'time': 227,\n",
              "         'today': 163,\n",
              "         ':(': 3649,\n",
              "         'dublin': 1,\n",
              "         'chalut': 1,\n",
              "         ':)': 2866,\n",
              "         'readi': 29,\n",
              "         'poldi': 1,\n",
              "         'cimbom': 1,\n",
              "         'look': 189,\n",
              "         'fun': 76,\n",
              "         'snapchat': 85,\n",
              "         'jennyjean': 2,\n",
              "         '22': 5,\n",
              "         'hornykik': 15,\n",
              "         'eboni': 1,\n",
              "         'trade': 4,\n",
              "         'model': 11,\n",
              "         'elfindelmundo': 2,\n",
              "         'webcamsex': 4,\n",
              "         'sorri': 136,\n",
              "         'closest': 3,\n",
              "         'door': 7,\n",
              "         'morn': 104,\n",
              "         'thank': 581,\n",
              "         'join': 27,\n",
              "         'us': 123,\n",
              "         'happi': 189,\n",
              "         'friday': 99,\n",
              "         'mommi': 3,\n",
              "         'left': 31,\n",
              "         'hey': 86,\n",
              "         'welcom': 60,\n",
              "         'build': 8,\n",
              "         'drop': 15,\n",
              "         'say': 103,\n",
              "         'hello': 58,\n",
              "         'sometim': 21,\n",
              "         'next': 68,\n",
              "         'week': 113,\n",
              "         'good': 260,\n",
              "         'luck': 23,\n",
              "         \"can't\": 177,\n",
              "         'parent': 8,\n",
              "         'na': 29,\n",
              "         'plan': 30,\n",
              "         'usual': 9,\n",
              "         'work': 196,\n",
              "         \"they'r\": 22,\n",
              "         'huhu': 18,\n",
              "         'could': 84,\n",
              "         'tri': 87,\n",
              "         'make': 160,\n",
              "         'paalam': 1,\n",
              "         'sleep': 109,\n",
              "         'god': 29,\n",
              "         'jgh': 6,\n",
              "         'omg': 63,\n",
              "         'nooo': 14,\n",
              "         'hahahaha': 6,\n",
              "         'way': 72,\n",
              "         ':p': 118,\n",
              "         'must': 27,\n",
              "         'wear': 8,\n",
              "         'ah': 26,\n",
              "         'school': 38,\n",
              "         'uniform': 1,\n",
              "         'senpai': 1,\n",
              "         '>:(': 42,\n",
              "         'buttsex': 1,\n",
              "         \"that'\": 97,\n",
              "         'ok': 56,\n",
              "         'know': 229,\n",
              "         'busi': 40,\n",
              "         'u': 288,\n",
              "         'man': 42,\n",
              "         ':d': 495,\n",
              "         'yeah': 71,\n",
              "         'soniii': 1,\n",
              "         'kahaaa': 1,\n",
              "         'tweet': 78,\n",
              "         'lone': 9,\n",
              "         'pleas': 299,\n",
              "         'woe': 4,\n",
              "         'run': 23,\n",
              "         'six': 3,\n",
              "         'though': 62,\n",
              "         'live': 46,\n",
              "         'mexico': 2,\n",
              "         'isco': 3,\n",
              "         'esai': 1,\n",
              "         'wanna': 101,\n",
              "         'feel': 170,\n",
              "         'like': 371,\n",
              "         'shit': 41,\n",
              "         'suppos': 10,\n",
              "         'rain': 50,\n",
              "         'weekend': 79,\n",
              "         'french': 8,\n",
              "         'mixer': 1,\n",
              "         'miss': 260,\n",
              "         '💜': 11,\n",
              "         'pleasur': 12,\n",
              "         'kristin': 1,\n",
              "         'enjoy': 74,\n",
              "         'flight': 5,\n",
              "         'im': 143,\n",
              "         'great': 155,\n",
              "         'still': 133,\n",
              "         'see': 248,\n",
              "         'despit': 3,\n",
              "         '144p': 1,\n",
              "         'keep': 80,\n",
              "         'calm': 7,\n",
              "         'stay': 44,\n",
              "         'kepo': 2,\n",
              "         '😪': 3,\n",
              "         'tire': 46,\n",
              "         'si': 6,\n",
              "         'wait': 92,\n",
              "         'yu': 2,\n",
              "         'hz': 2,\n",
              "         'tell': 39,\n",
              "         'tast': 6,\n",
              "         'music': 31,\n",
              "         'hi': 171,\n",
              "         'fourfivesecond': 4,\n",
              "         'think': 109,\n",
              "         'might': 28,\n",
              "         'deaf': 4,\n",
              "         'ear': 15,\n",
              "         'start': 79,\n",
              "         'read': 41,\n",
              "         '11': 5,\n",
              "         '3:33': 2,\n",
              "         'jfc': 1,\n",
              "         'fli': 13,\n",
              "         'aw': 38,\n",
              "         'get': 336,\n",
              "         'soon': 78,\n",
              "         'olli': 3,\n",
              "         'almost': 17,\n",
              "         'enough': 35,\n",
              "         'confid': 2,\n",
              "         \"i'm\": 419,\n",
              "         'night': 93,\n",
              "         'goodby': 17,\n",
              "         'twitter': 50,\n",
              "         'long': 61,\n",
              "         'manuella': 1,\n",
              "         'wohoo': 1,\n",
              "         '...': 491,\n",
              "         'colour': 6,\n",
              "         'perfect': 22,\n",
              "         'wsalelov': 17,\n",
              "         'well': 115,\n",
              "         'happen': 52,\n",
              "         'hahaha': 21,\n",
              "         'everyon': 61,\n",
              "         'stori': 18,\n",
              "         'relat': 4,\n",
              "         'song': 42,\n",
              "         'got': 133,\n",
              "         'label': 1,\n",
              "         'worst': 17,\n",
              "         'batch': 1,\n",
              "         'princip': 1,\n",
              "         'due': 13,\n",
              "         'nat': 1,\n",
              "         'holiday': 24,\n",
              "         '..': 196,\n",
              "         '1pm': 2,\n",
              "         \"school'\": 1,\n",
              "         'final': 52,\n",
              "         'three': 9,\n",
              "         'back': 165,\n",
              "         'san': 5,\n",
              "         'diego': 1,\n",
              "         'thought': 49,\n",
              "         'part': 20,\n",
              "         'tour': 13,\n",
              "         ':-(': 394,\n",
              "         'goodnight': 20,\n",
              "         'noo': 4,\n",
              "         'rt': 16,\n",
              "         'spree': 8,\n",
              "         'atm': 4,\n",
              "         'beyond': 5,\n",
              "         'word': 28,\n",
              "         'sooo': 17,\n",
              "         'freak': 7,\n",
              "         'go': 298,\n",
              "         'die': 22,\n",
              "         'come': 131,\n",
              "         'done': 61,\n",
              "         'ya': 30,\n",
              "         'minn': 1,\n",
              "         'cjradacomateada': 2,\n",
              "         'gorgeou': 10,\n",
              "         'indiankultur': 1,\n",
              "         'oppos': 1,\n",
              "         'anniversari': 5,\n",
              "         'view': 20,\n",
              "         'offic': 12,\n",
              "         'pretti': 29,\n",
              "         'awesom': 35,\n",
              "         'ugli': 12,\n",
              "         'side': 17,\n",
              "         'sea': 4,\n",
              "         'even': 87,\n",
              "         'prettier': 2,\n",
              "         'someon': 66,\n",
              "         'love': 437,\n",
              "         'promis': 8,\n",
              "         'inact': 4,\n",
              "         'aww': 27,\n",
              "         'bad': 73,\n",
              "         'want': 276,\n",
              "         'hot': 34,\n",
              "         'dog': 16,\n",
              "         'babe': 24,\n",
              "         'notgonnabeactivefor': 1,\n",
              "         '2weeksdontmissittoomuch': 1,\n",
              "         'suger': 1,\n",
              "         'doll': 1,\n",
              "         'wonder': 43,\n",
              "         'energi': 4,\n",
              "         'class': 13,\n",
              "         'teenchoic': 13,\n",
              "         'choiceinternationalartist': 12,\n",
              "         'superjunior': 12,\n",
              "         'fight': 6,\n",
              "         'oppa': 11,\n",
              "         'legit': 2,\n",
              "         'loser': 4,\n",
              "         'sit': 10,\n",
              "         'gass': 1,\n",
              "         'noth': 34,\n",
              "         \"mom'\": 2,\n",
              "         'linguist': 1,\n",
              "         \"dad'\": 1,\n",
              "         'comput': 9,\n",
              "         'scientist': 2,\n",
              "         'dumbest': 1,\n",
              "         'one': 230,\n",
              "         'famili': 24,\n",
              "         'liam': 7,\n",
              "         'sophia': 1,\n",
              "         'chicago': 1,\n",
              "         '♥': 35,\n",
              "         'crazyyi': 1,\n",
              "         'thooo': 1,\n",
              "         'zz': 1,\n",
              "         'airport': 8,\n",
              "         'straight': 4,\n",
              "         'away': 36,\n",
              "         'soundcheck': 1,\n",
              "         'concert': 29,\n",
              "         'aha': 2,\n",
              "         'yesss': 4,\n",
              "         'forward': 28,\n",
              "         \"they'v\": 4,\n",
              "         'brainwash': 2,\n",
              "         'oh': 112,\n",
              "         'hear': 56,\n",
              "         'issu': 19,\n",
              "         'signal': 2,\n",
              "         'jojo': 2,\n",
              "         'pop': 7,\n",
              "         'full': 29,\n",
              "         'postcod': 1,\n",
              "         'understand': 17,\n",
              "         'sad': 102,\n",
              "         'depress': 4,\n",
              "         'extrem': 5,\n",
              "         'anxiou': 2,\n",
              "         'poc': 1,\n",
              "         ':/': 14,\n",
              "         'zayncomebackto': 1,\n",
              "         '1d': 7,\n",
              "         'zayniscomingback': 2,\n",
              "         'fuck': 67,\n",
              "         'play': 66,\n",
              "         'emot': 8,\n",
              "         'saw': 29,\n",
              "         'vers': 1,\n",
              "         'butterfli': 1,\n",
              "         'bonu': 2,\n",
              "         'gossip': 2,\n",
              "         'girl': 57,\n",
              "         '90210': 1,\n",
              "         'vampir': 1,\n",
              "         'diari': 2,\n",
              "         'oitnb': 2,\n",
              "         'moment': 22,\n",
              "         'ohh': 10,\n",
              "         'hope': 187,\n",
              "         'armor': 2,\n",
              "         'piec': 4,\n",
              "         'legendari': 1,\n",
              "         'aku': 2,\n",
              "         'chelsea': 5,\n",
              "         'koe': 1,\n",
              "         'emyu': 1,\n",
              "         'stack': 2,\n",
              "         \"m'ladi\": 1,\n",
              "         'j8': 1,\n",
              "         'j11': 1,\n",
              "         'm20': 1,\n",
              "         'idea': 25,\n",
              "         'sunjam': 1,\n",
              "         'rip': 14,\n",
              "         'process': 4,\n",
              "         'cough': 7,\n",
              "         'okay': 65,\n",
              "         'x': 94,\n",
              "         'amber': 7,\n",
              "         'ye': 99,\n",
              "         'cours': 21,\n",
              "         'teamposit': 1,\n",
              "         'stat': 49,\n",
              "         'day': 314,\n",
              "         'arriv': 58,\n",
              "         '1': 80,\n",
              "         'new': 147,\n",
              "         'follow': 518,\n",
              "         'unfollow': 61,\n",
              "         'via': 57,\n",
              "         'thaank': 1,\n",
              "         'jhezz': 1,\n",
              "         'damn': 29,\n",
              "         'sneak': 5,\n",
              "         'fah': 1,\n",
              "         'mine': 20,\n",
              "         'seriou': 8,\n",
              "         'himmat': 1,\n",
              "         'karain': 2,\n",
              "         'aur': 3,\n",
              "         'moo': 2,\n",
              "         'pay': 14,\n",
              "         'baat': 1,\n",
              "         'believ': 16,\n",
              "         'meri': 1,\n",
              "         'debat': 2,\n",
              "         'abu': 2,\n",
              "         'k': 14,\n",
              "         'cousin': 8,\n",
              "         'sath': 2,\n",
              "         'hotee-mi': 1,\n",
              "         'uncl': 1,\n",
              "         '😂': 37,\n",
              "         'overwhelmingli': 1,\n",
              "         'game': 40,\n",
              "         'hard': 41,\n",
              "         'fav': 11,\n",
              "         'nirvana': 1,\n",
              "         'smell': 3,\n",
              "         'teen': 10,\n",
              "         'spirit': 4,\n",
              "         'ami': 5,\n",
              "         'winehous': 1,\n",
              "         'awww': 34,\n",
              "         'baechyyi': 1,\n",
              "         'okayyy': 1,\n",
              "         'lol': 85,\n",
              "         'cute': 59,\n",
              "         'actual': 32,\n",
              "         'haha': 66,\n",
              "         'bond': 3,\n",
              "         'lovabl': 1,\n",
              "         'life': 67,\n",
              "         '<3': 135,\n",
              "         'yesha': 1,\n",
              "         'montoya': 1,\n",
              "         'mean': 57,\n",
              "         'roller': 2,\n",
              "         'skate': 2,\n",
              "         'bitch': 13,\n",
              "         'realli': 175,\n",
              "         'went': 36,\n",
              "         'hallyu': 1,\n",
              "         'sunday': 11,\n",
              "         'zayn': 11,\n",
              "         'malik': 2,\n",
              "         'terribl': 12,\n",
              "         'thing': 96,\n",
              "         'doin': 3,\n",
              "         'yoga': 3,\n",
              "         'stop': 48,\n",
              "         'awalmu': 1,\n",
              "         'njareeem': 1,\n",
              "         'gift': 15,\n",
              "         'calibraksaep': 2,\n",
              "         'dont': 49,\n",
              "         'money': 27,\n",
              "         'fab': 11,\n",
              "         'theres': 1,\n",
              "         'hahahahaha': 4,\n",
              "         'cred': 1,\n",
              "         'ask': 52,\n",
              "         'dragon': 1,\n",
              "         'duck': 4,\n",
              "         'mix': 5,\n",
              "         'cheetah': 1,\n",
              "         'confess': 1,\n",
              "         'nice': 95,\n",
              "         'daniel': 3,\n",
              "         'latest': 8,\n",
              "         'softwar': 1,\n",
              "         'instal': 3,\n",
              "         'restor': 2,\n",
              "         'sharethelov': 2,\n",
              "         'top': 30,\n",
              "         'highvalu': 2,\n",
              "         'member': 17,\n",
              "         'find': 63,\n",
              "         'balanc': 4,\n",
              "         'later': 24,\n",
              "         'would': 122,\n",
              "         'abl': 19,\n",
              "         'stuff': 19,\n",
              "         'move': 19,\n",
              "         'consid': 7,\n",
              "         'take': 78,\n",
              "         'fulltim': 1,\n",
              "         'job': 40,\n",
              "         'portrait': 1,\n",
              "         'izumi': 1,\n",
              "         'fugiwara': 1,\n",
              "         'clonmel': 1,\n",
              "         'refresh': 5,\n",
              "         'vibrant': 1,\n",
              "         '5': 26,\n",
              "         'free': 44,\n",
              "         'mbf': 1,\n",
              "         'need': 148,\n",
              "         'mutual': 4,\n",
              "         '❤': 36,\n",
              "         '️': 28,\n",
              "         'kpop': 3,\n",
              "         'account': 32,\n",
              "         'hahahaokay': 1,\n",
              "         'guy': 100,\n",
              "         \"i'll\": 106,\n",
              "         '30': 6,\n",
              "         'min': 12,\n",
              "         'low': 14,\n",
              "         'rank': 3,\n",
              "         'subgam': 1,\n",
              "         'faceit': 1,\n",
              "         'trust': 11,\n",
              "         'favourit': 15,\n",
              "         'airlin': 1,\n",
              "         'deliv': 6,\n",
              "         'alway': 103,\n",
              "         \"where'\": 5,\n",
              "         'album': 17,\n",
              "         'akon': 1,\n",
              "         'smile': 50,\n",
              "         'tgif': 11,\n",
              "         'last': 91,\n",
              "         'rotterdam': 1,\n",
              "         'cheer': 21,\n",
              "         'jordi': 1,\n",
              "         'clasi': 1,\n",
              "         'harriet': 1,\n",
              "         'leav': 44,\n",
              "         'capcom': 3,\n",
              "         'cock': 1,\n",
              "         'teas': 4,\n",
              "         'beta': 3,\n",
              "         'minecraft': 7,\n",
              "         'bore': 27,\n",
              "         'talk': 71,\n",
              "         'million': 4,\n",
              "         'kindergarten': 1,\n",
              "         'kid': 35,\n",
              "         'retweet': 38,\n",
              "         'send': 31,\n",
              "         'excit': 36,\n",
              "         'news': 37,\n",
              "         '43': 2,\n",
              "         'till': 20,\n",
              "         'hpc': 1,\n",
              "         'parti': 20,\n",
              "         'alreadi': 68,\n",
              "         'quickli': 4,\n",
              "         'vega': 4,\n",
              "         'cass': 1,\n",
              "         'black': 13,\n",
              "         'red': 5,\n",
              "         'maxi': 2,\n",
              "         'dress': 14,\n",
              "         'flipkartfashionfriday': 15,\n",
              "         'zayniscomingbackonjuli': 14,\n",
              "         '26': 15,\n",
              "         ';(': 5,\n",
              "         'weather': 29,\n",
              "         'wed': 7,\n",
              "         'comeback': 4,\n",
              "         'gross': 5,\n",
              "         'jack': 5,\n",
              "         'box': 10,\n",
              "         'ariel': 1,\n",
              "         'bodi': 18,\n",
              "         'slap': 1,\n",
              "         'liter': 16,\n",
              "         'slam': 1,\n",
              "         'learn': 11,\n",
              "         'drive': 23,\n",
              "         'fricken': 2,\n",
              "         'health': 2,\n",
              "         'put': 27,\n",
              "         'hit': 16,\n",
              "         'map': 3,\n",
              "         'googl': 10,\n",
              "         'inform': 8,\n",
              "         'quit': 18,\n",
              "         'littl': 39,\n",
              "         'place': 34,\n",
              "         'lagg': 1,\n",
              "         'certain': 5,\n",
              "         'wish': 96,\n",
              "         'brienn': 1,\n",
              "         'meet': 53,\n",
              "         'lsh': 1,\n",
              "         'owner': 3,\n",
              "         'user': 3,\n",
              "         'requir': 4,\n",
              "         'funni': 20,\n",
              "         'use': 63,\n",
              "         'kuffar': 1,\n",
              "         'cell': 2,\n",
              "         'phone': 41,\n",
              "         'social': 3,\n",
              "         'media': 5,\n",
              "         'spread': 6,\n",
              "         'diarrhea': 1,\n",
              "         'immigr': 1,\n",
              "         'lice': 1,\n",
              "         '😊': 18,\n",
              "         'small': 13,\n",
              "         'letter': 3,\n",
              "         'z': 4,\n",
              "         'gen': 2,\n",
              "         'sa': 20,\n",
              "         'dorm': 1,\n",
              "         'common': 5,\n",
              "         'lie': 9,\n",
              "         'th': 5,\n",
              "         'wolrd': 1,\n",
              "         'fyn': 1,\n",
              "         'tricki': 2,\n",
              "         'bt': 6,\n",
              "         'v': 13,\n",
              "         'import': 6,\n",
              "         'subject': 4,\n",
              "         \"i'v\": 93,\n",
              "         'support': 41,\n",
              "         'sinc': 41,\n",
              "         'ignor': 14,\n",
              "         'let': 92,\n",
              "         '�': 20,\n",
              "         'muchhh': 1,\n",
              "         'tmr': 2,\n",
              "         'mayb': 36,\n",
              "         'idk': 22,\n",
              "         'mani': 52,\n",
              "         'doctor': 6,\n",
              "         'toxin': 1,\n",
              "         'freedom': 2,\n",
              "         'organ': 3,\n",
              "         'nex': 2,\n",
              "         'vex': 1,\n",
              "         'design': 16,\n",
              "         'neil': 3,\n",
              "         \"what'\": 25,\n",
              "         'match': 10,\n",
              "         'emir': 1,\n",
              "         'never': 79,\n",
              "         'cruel': 1,\n",
              "         'alon': 15,\n",
              "         'mad': 11,\n",
              "         'wrong': 38,\n",
              "         'forgiv': 2,\n",
              "         'goodtim': 1,\n",
              "         'took': 13,\n",
              "         'rehears': 2,\n",
              "         'youthcelebr': 1,\n",
              "         'bro': 25,\n",
              "         'compani': 5,\n",
              "         'pete': 1,\n",
              "         'listen': 26,\n",
              "         '☺': 8,\n",
              "         'daddi': 5,\n",
              "         'chang': 43,\n",
              "         'channel': 11,\n",
              "         'matt': 6,\n",
              "         \"he'\": 27,\n",
              "         '14': 4,\n",
              "         'onlin': 16,\n",
              "         'mamaya': 1,\n",
              "         'loiyal': 1,\n",
              "         'para': 1,\n",
              "         'truthfulwordsof': 1,\n",
              "         'beanatividad': 1,\n",
              "         'nknkkpagpapakumbaba': 1,\n",
              "         'canadian': 1,\n",
              "         'best': 57,\n",
              "         'dinner': 8,\n",
              "         \"we'r\": 51,\n",
              "         'earli': 10,\n",
              "         'bird': 5,\n",
              "         'gone': 25,\n",
              "         'da': 7,\n",
              "         'didnt': 21,\n",
              "         'mind': 24,\n",
              "         'opinion': 2,\n",
              "         'anyway': 21,\n",
              "         'first': 55,\n",
              "         'sudden': 4,\n",
              "         'accur': 2,\n",
              "         \"let'\": 20,\n",
              "         'bam': 37,\n",
              "         'bestfriend': 51,\n",
              "         'lot': 94,\n",
              "         'warsaw': 37,\n",
              "         'x33': 1,\n",
              "         \"there'\": 25,\n",
              "         'cool': 36,\n",
              "         'total': 16,\n",
              "         'bitter': 2,\n",
              "         'anger': 1,\n",
              "         'hatr': 2,\n",
              "         'toward': 3,\n",
              "         'pure': 4,\n",
              "         'indiffer': 1,\n",
              "         'elhaida': 1,\n",
              "         'rob': 3,\n",
              "         'juri': 1,\n",
              "         'came': 20,\n",
              "         '10th': 1,\n",
              "         'televot': 1,\n",
              "         'right': 78,\n",
              "         'kyle': 3,\n",
              "         'wont': 11,\n",
              "         'email': 28,\n",
              "         'ur': 52,\n",
              "         'paypal': 3,\n",
              "         'confirm': 3,\n",
              "         'oct': 2,\n",
              "         'flip': 3,\n",
              "         'belgium': 4,\n",
              "         'waffl': 1,\n",
              "         'thrown': 2,\n",
              "         'face': 26,\n",
              "         'sexi': 16,\n",
              "         'two': 32,\n",
              "         '👉': 6,\n",
              "         'pre-ord': 2,\n",
              "         \"pixar'\": 1,\n",
              "         'insid': 15,\n",
              "         'steelbook': 1,\n",
              "         'son': 5,\n",
              "         'morocco': 1,\n",
              "         'year': 75,\n",
              "         'special': 9,\n",
              "         'peru': 1,\n",
              "         'nxt': 2,\n",
              "         'orchard': 1,\n",
              "         'art': 13,\n",
              "         'show': 42,\n",
              "         'super': 22,\n",
              "         'friend': 85,\n",
              "         'steph': 2,\n",
              "         'mel': 1,\n",
              "         'longest': 1,\n",
              "         'havent': 11,\n",
              "         'met': 11,\n",
              "         'yet': 33,\n",
              "         'hug': 32,\n",
              "         '6': 31,\n",
              "         'favorit': 13,\n",
              "         'sure': 72,\n",
              "         'touch': 18,\n",
              "         'light': 19,\n",
              "         'bulb': 4,\n",
              "         'made': 53,\n",
              "         'corn': 6,\n",
              "         'wast': 9,\n",
              "         'data': 5,\n",
              "         'deplet': 1,\n",
              "         'mbasa': 1,\n",
              "         'joke': 5,\n",
              "         'sexyjan': 1,\n",
              "         '19': 11,\n",
              "         'kik': 71,\n",
              "         'horni': 3,\n",
              "         'bestoftheday': 4,\n",
              "         'photo': 26,\n",
              "         'goodmus': 4,\n",
              "         'sexual': 3,\n",
              "         'hellooo': 2,\n",
              "         'alix': 1,\n",
              "         'connect': 12,\n",
              "         \"here'\": 22,\n",
              "         'teaser': 2,\n",
              "         'upcom': 1,\n",
              "         'airec': 1,\n",
              "         '009': 1,\n",
              "         'releas': 13,\n",
              "         'acid': 1,\n",
              "         'mous': 2,\n",
              "         'ep': 6,\n",
              "         '31st': 3,\n",
              "         'august': 9,\n",
              "         'includ': 6,\n",
              "         'robin': 1,\n",
              "         'rough': 5,\n",
              "         'control': 3,\n",
              "         'remix': 4,\n",
              "         'dream': 34,\n",
              "         'around': 28,\n",
              "         'tabl': 2,\n",
              "         'eat': 22,\n",
              "         'someth': 44,\n",
              "         'heavi': 5,\n",
              "         'burst': 4,\n",
              "         'irl': 2,\n",
              "         'gfriend': 2,\n",
              "         'perform': 11,\n",
              "         'rn': 17,\n",
              "         'broh': 1,\n",
              "         'huge': 13,\n",
              "         'ff': 39,\n",
              "         'glad': 38,\n",
              "         'bother': 5,\n",
              "         'outsid': 12,\n",
              "         'drain': 3,\n",
              "         'bloodi': 1,\n",
              "         'check': 59,\n",
              "         '2nd': 7,\n",
              "         'blogiversari': 1,\n",
              "         'review': 8,\n",
              "         'sn16': 1,\n",
              "         '9dg': 1,\n",
              "         'sign': 15,\n",
              "         'instead': 7,\n",
              "         'lang': 5,\n",
              "         'kill': 21,\n",
              "         'tho': 32,\n",
              "         'seolhyun': 1,\n",
              "         'isnt': 6,\n",
              "         'she': 5,\n",
              "         'film': 13,\n",
              "         'drama': 3,\n",
              "         'wow': 25,\n",
              "         'donna': 3,\n",
              "         'determin': 3,\n",
              "         'women': 6,\n",
              "         'cycl': 7,\n",
              "         'amaz': 55,\n",
              "         \"s'okay\": 1,\n",
              "         'andi': 3,\n",
              "         'you-and': 1,\n",
              "         'beach': 8,\n",
              "         'horribl': 9,\n",
              "         'blinkin': 1,\n",
              "         'vacat': 9,\n",
              "         '8': 20,\n",
              "         'month': 22,\n",
              "         'xd': 10,\n",
              "         '3': 53,\n",
              "         'also': 43,\n",
              "         'charcoal': 1,\n",
              "         'til': 5,\n",
              "         'mid-end': 1,\n",
              "         'aug': 3,\n",
              "         'sfvbeta': 1,\n",
              "         'uk': 9,\n",
              "         'honour': 1,\n",
              "         'lost': 25,\n",
              "         '3.4': 1,\n",
              "         'thaaank': 1,\n",
              "         'decemb': 3,\n",
              "         'puhon': 1,\n",
              "         'yup': 10,\n",
              "         'soul': 7,\n",
              "         'guitar': 2,\n",
              "         'featur': 6,\n",
              "         'cocoar': 1,\n",
              "         'eyyah': 1,\n",
              "         'utd': 2,\n",
              "         'born': 3,\n",
              "         '18': 9,\n",
              "         'legal': 1,\n",
              "         'age': 9,\n",
              "         'drink': 14,\n",
              "         'judgment': 1,\n",
              "         'hypocrit': 1,\n",
              "         'narcissist': 1,\n",
              "         'what': 9,\n",
              "         'height': 3,\n",
              "         'alot': 5,\n",
              "         'ppl': 7,\n",
              "         'infinit': 11,\n",
              "         'vs': 7,\n",
              "         'video': 44,\n",
              "         'post': 27,\n",
              "         'old': 24,\n",
              "         'edit': 10,\n",
              "         'fall': 20,\n",
              "         'asleep': 25,\n",
              "         'oomf': 1,\n",
              "         'log': 4,\n",
              "         'tomorrow': 58,\n",
              "         'greatli': 1,\n",
              "         'appreci': 26,\n",
              "         'download': 12,\n",
              "         'scroll': 1,\n",
              "         'contact': 13,\n",
              "         'curv': 2,\n",
              "         '😉': 3,\n",
              "         'sigh': 14,\n",
              "         'pamer': 1,\n",
              "         'thankyou': 13,\n",
              "         'treat': 9,\n",
              "         'kanina': 3,\n",
              "         'breakdown': 2,\n",
              "         'sir': 17,\n",
              "         'mag': 3,\n",
              "         'pbb': 3,\n",
              "         '737gold': 2,\n",
              "         'direct': 2,\n",
              "         'geoff': 1,\n",
              "         'problem': 20,\n",
              "         'win': 37,\n",
              "         'rubber': 1,\n",
              "         'proper': 3,\n",
              "         'bath': 5,\n",
              "         'without': 27,\n",
              "         'quacketyquack': 5,\n",
              "         'honey': 5,\n",
              "         'brown': 3,\n",
              "         'sugar': 3,\n",
              "         'lip': 4,\n",
              "         'amount': 3,\n",
              "         \"could'v\": 3,\n",
              "         'food': 18,\n",
              "         'explain': 5,\n",
              "         'pic': 38,\n",
              "         'nash': 2,\n",
              "         'mention': 29,\n",
              "         'steak': 2,\n",
              "         'younger': 6,\n",
              "         'fat': 5,\n",
              "         'g': 13,\n",
              "         'tom': 5,\n",
              "         'happybirthdayemilybett': 1,\n",
              "         'sweet': 17,\n",
              "         'talent': 7,\n",
              "         '…': 44,\n",
              "         'imma': 5,\n",
              "         'activ': 8,\n",
              "         'caus': 24,\n",
              "         ';)': 25,\n",
              "         'woaah': 1,\n",
              "         'chri': 5,\n",
              "         'hun': 6,\n",
              "         'shame': 16,\n",
              "         'sxrew': 1,\n",
              "         'end': 46,\n",
              "         'dissappear': 1,\n",
              "         'swap': 1,\n",
              "         'bleed': 3,\n",
              "         'season': 15,\n",
              "         'gonna': 60,\n",
              "         'asthma': 1,\n",
              "         'attack': 5,\n",
              "         'inhal': 1,\n",
              "         'r': 24,\n",
              "         'breath': 5,\n",
              "         'ffback': 2,\n",
              "         'eagerli': 1,\n",
              "         'question': 21,\n",
              "         'bring': 19,\n",
              "         'jabongatpumaurbanstamped': 6,\n",
              "         'outnumb': 1,\n",
              "         'watch': 97,\n",
              "         'happier': 1,\n",
              "         'hous': 20,\n",
              "         'h': 12,\n",
              "         'shirt': 4,\n",
              "         'pap': 1,\n",
              "         'anim': 10,\n",
              "         '—': 43,\n",
              "         'custom': 5,\n",
              "         'lwwf': 1,\n",
              "         'white': 8,\n",
              "         'bulldog': 2,\n",
              "         'sound': 31,\n",
              "         'dm': 52,\n",
              "         'address': 10,\n",
              "         'suggest': 8,\n",
              "         'date': 15,\n",
              "         'coffe': 10,\n",
              "         '7am': 1,\n",
              "         'delph': 5,\n",
              "         'injur': 6,\n",
              "         'mcfc': 1,\n",
              "         'stiff': 1,\n",
              "         'upper': 1,\n",
              "         'reason': 17,\n",
              "         'call': 52,\n",
              "         'britain': 2,\n",
              "         \"how'\": 6,\n",
              "         'your': 10,\n",
              "         'intoler': 1,\n",
              "         'scare': 14,\n",
              "         'xenophob': 1,\n",
              "         'chalkhil': 1,\n",
              "         'park': 13,\n",
              "         'celebr': 11,\n",
              "         'midday': 1,\n",
              "         'momo': 2,\n",
              "         'ga': 4,\n",
              "         'nope': 7,\n",
              "         'doesnt': 6,\n",
              "         'olur': 1,\n",
              "         'ice': 34,\n",
              "         'chocol': 13,\n",
              "         'popsicl': 1,\n",
              "         'soft': 3,\n",
              "         'melt': 2,\n",
              "         'mouth': 6,\n",
              "         'nasti': 2,\n",
              "         'narrow': 1,\n",
              "         'awkward': 3,\n",
              "         'ab': 6,\n",
              "         'laugh': 8,\n",
              "         'may': 30,\n",
              "         'round': 4,\n",
              "         '2ish': 1,\n",
              "         'head': 33,\n",
              "         'climatechang': 5,\n",
              "         'cc': 8,\n",
              "         'easi': 14,\n",
              "         'green': 8,\n",
              "         'golf': 1,\n",
              "         'california': 1,\n",
              "         'ulti': 1,\n",
              "         'laura': 3,\n",
              "         'diagnos': 1,\n",
              "         'wiv': 1,\n",
              "         \"scheuermann'\": 1,\n",
              "         'diseas': 2,\n",
              "         'bone': 2,\n",
              "         'rlyhurt': 1,\n",
              "         'howdo': 1,\n",
              "         'georgesampson': 1,\n",
              "         'cant': 55,\n",
              "         'stand': 10,\n",
              "         'pain': 24,\n",
              "         'p': 7,\n",
              "         'e': 14,\n",
              "         '♛': 162,\n",
              "         '》': 162,\n",
              "         'beli̇ev': 27,\n",
              "         'wi̇ll': 27,\n",
              "         'justi̇n': 27,\n",
              "         'x15': 28,\n",
              "         '338': 1,\n",
              "         'ｓｅｅ': 27,\n",
              "         'ｍｅ': 27,\n",
              "         'citi': 28,\n",
              "         'countri': 24,\n",
              "         'followback': 9,\n",
              "         'pardon': 1,\n",
              "         'madi': 2,\n",
              "         'help': 78,\n",
              "         'nightmar': 7,\n",
              "         'wrote': 5,\n",
              "         'eye': 26,\n",
              "         'bald': 1,\n",
              "         '2': 75,\n",
              "         'ago': 22,\n",
              "         'heatwav': 1,\n",
              "         ...})"
            ]
          },
          "metadata": {},
          "execution_count": 14
        }
      ]
    },
    {
      "cell_type": "code",
      "source": [
        "#Ordeno de acuerdo a la pa;abra que mas se repite/ ESTOY DEBERIA HACERSE ANTES DE TODO LO QUE HICIMOS.\n",
        "#pero aqui puedo quitar palabras a simbolos, segun experimientacion. ahora lo dejamos, entreno el modelo y mas adelante podria entrenar otro modelo quitandolo.\n",
        "\n",
        "sorted(train_vocab_freq.items(), key=lambda x:x[1], reverse=True)[:10]"
      ],
      "metadata": {
        "colab": {
          "base_uri": "https://localhost:8080/"
        },
        "id": "ptOUO2pIBFFe",
        "outputId": "66dea74c-b1a0-4395-8d63-de0b9d56947e"
      },
      "execution_count": null,
      "outputs": [
        {
          "output_type": "execute_result",
          "data": {
            "text/plain": [
              "[(':(', 3649),\n",
              " (':)', 2866),\n",
              " ('thank', 581),\n",
              " (':-)', 551),\n",
              " ('follow', 518),\n",
              " (':d', 495),\n",
              " ('...', 491),\n",
              " ('love', 437),\n",
              " (\"i'm\", 419),\n",
              " (':-(', 394)]"
            ]
          },
          "metadata": {},
          "execution_count": 15
        }
      ]
    },
    {
      "cell_type": "code",
      "source": [
        "# Tengo un array de arrays donde cada lista ya esta tokenizada, esta limpio.\n",
        "X_train_clean = []\n",
        "for tweet in X_train:\n",
        "  clean_tweet = process_tweet(tweet)\n",
        "  X_train_clean.append(clean_tweet)"
      ],
      "metadata": {
        "id": "Cci6X1Kf_x1b"
      },
      "execution_count": null,
      "outputs": []
    },
    {
      "cell_type": "code",
      "source": [
        "X_train_clean[:5]"
      ],
      "metadata": {
        "colab": {
          "base_uri": "https://localhost:8080/"
        },
        "id": "DSbdaHhHBpU7",
        "outputId": "0154d2f5-c0df-40fb-ba0c-d235386843ed"
      },
      "execution_count": null,
      "outputs": [
        {
          "output_type": "execute_result",
          "data": {
            "text/plain": [
              "[['somi',\n",
              "  'definit',\n",
              "  'much',\n",
              "  'beauti',\n",
              "  'better',\n",
              "  'ever',\n",
              "  'guess',\n",
              "  'peopl',\n",
              "  'jealou',\n",
              "  'bc',\n",
              "  \"ain't\",\n",
              "  ':-)'],\n",
              " ['home', 'time', 'today', ':(', 'dublin'],\n",
              " ['chalut', ':)'],\n",
              " ['readi', ':)', 'poldi', 'cimbom'],\n",
              " ['look',\n",
              "  'fun',\n",
              "  'snapchat',\n",
              "  'jennyjean',\n",
              "  '22',\n",
              "  'snapchat',\n",
              "  'hornykik',\n",
              "  'eboni',\n",
              "  'trade',\n",
              "  'model',\n",
              "  'elfindelmundo',\n",
              "  'webcamsex',\n",
              "  ':(']]"
            ]
          },
          "metadata": {},
          "execution_count": 17
        }
      ]
    },
    {
      "cell_type": "code",
      "source": [
        "# lo que eliminamos...ademas de lo que tenemos en la funcion\n",
        "stopword_english = stopwords.words('english')\n",
        "stopword_english"
      ],
      "metadata": {
        "id": "3XwObqmL_rJw",
        "outputId": "c381e649-82aa-49c0-8f53-f0a9080122a4",
        "colab": {
          "base_uri": "https://localhost:8080/"
        }
      },
      "execution_count": null,
      "outputs": [
        {
          "output_type": "execute_result",
          "data": {
            "text/plain": [
              "['i',\n",
              " 'me',\n",
              " 'my',\n",
              " 'myself',\n",
              " 'we',\n",
              " 'our',\n",
              " 'ours',\n",
              " 'ourselves',\n",
              " 'you',\n",
              " \"you're\",\n",
              " \"you've\",\n",
              " \"you'll\",\n",
              " \"you'd\",\n",
              " 'your',\n",
              " 'yours',\n",
              " 'yourself',\n",
              " 'yourselves',\n",
              " 'he',\n",
              " 'him',\n",
              " 'his',\n",
              " 'himself',\n",
              " 'she',\n",
              " \"she's\",\n",
              " 'her',\n",
              " 'hers',\n",
              " 'herself',\n",
              " 'it',\n",
              " \"it's\",\n",
              " 'its',\n",
              " 'itself',\n",
              " 'they',\n",
              " 'them',\n",
              " 'their',\n",
              " 'theirs',\n",
              " 'themselves',\n",
              " 'what',\n",
              " 'which',\n",
              " 'who',\n",
              " 'whom',\n",
              " 'this',\n",
              " 'that',\n",
              " \"that'll\",\n",
              " 'these',\n",
              " 'those',\n",
              " 'am',\n",
              " 'is',\n",
              " 'are',\n",
              " 'was',\n",
              " 'were',\n",
              " 'be',\n",
              " 'been',\n",
              " 'being',\n",
              " 'have',\n",
              " 'has',\n",
              " 'had',\n",
              " 'having',\n",
              " 'do',\n",
              " 'does',\n",
              " 'did',\n",
              " 'doing',\n",
              " 'a',\n",
              " 'an',\n",
              " 'the',\n",
              " 'and',\n",
              " 'but',\n",
              " 'if',\n",
              " 'or',\n",
              " 'because',\n",
              " 'as',\n",
              " 'until',\n",
              " 'while',\n",
              " 'of',\n",
              " 'at',\n",
              " 'by',\n",
              " 'for',\n",
              " 'with',\n",
              " 'about',\n",
              " 'against',\n",
              " 'between',\n",
              " 'into',\n",
              " 'through',\n",
              " 'during',\n",
              " 'before',\n",
              " 'after',\n",
              " 'above',\n",
              " 'below',\n",
              " 'to',\n",
              " 'from',\n",
              " 'up',\n",
              " 'down',\n",
              " 'in',\n",
              " 'out',\n",
              " 'on',\n",
              " 'off',\n",
              " 'over',\n",
              " 'under',\n",
              " 'again',\n",
              " 'further',\n",
              " 'then',\n",
              " 'once',\n",
              " 'here',\n",
              " 'there',\n",
              " 'when',\n",
              " 'where',\n",
              " 'why',\n",
              " 'how',\n",
              " 'all',\n",
              " 'any',\n",
              " 'both',\n",
              " 'each',\n",
              " 'few',\n",
              " 'more',\n",
              " 'most',\n",
              " 'other',\n",
              " 'some',\n",
              " 'such',\n",
              " 'no',\n",
              " 'nor',\n",
              " 'not',\n",
              " 'only',\n",
              " 'own',\n",
              " 'same',\n",
              " 'so',\n",
              " 'than',\n",
              " 'too',\n",
              " 'very',\n",
              " 's',\n",
              " 't',\n",
              " 'can',\n",
              " 'will',\n",
              " 'just',\n",
              " 'don',\n",
              " \"don't\",\n",
              " 'should',\n",
              " \"should've\",\n",
              " 'now',\n",
              " 'd',\n",
              " 'll',\n",
              " 'm',\n",
              " 'o',\n",
              " 're',\n",
              " 've',\n",
              " 'y',\n",
              " 'ain',\n",
              " 'aren',\n",
              " \"aren't\",\n",
              " 'couldn',\n",
              " \"couldn't\",\n",
              " 'didn',\n",
              " \"didn't\",\n",
              " 'doesn',\n",
              " \"doesn't\",\n",
              " 'hadn',\n",
              " \"hadn't\",\n",
              " 'hasn',\n",
              " \"hasn't\",\n",
              " 'haven',\n",
              " \"haven't\",\n",
              " 'isn',\n",
              " \"isn't\",\n",
              " 'ma',\n",
              " 'mightn',\n",
              " \"mightn't\",\n",
              " 'mustn',\n",
              " \"mustn't\",\n",
              " 'needn',\n",
              " \"needn't\",\n",
              " 'shan',\n",
              " \"shan't\",\n",
              " 'shouldn',\n",
              " \"shouldn't\",\n",
              " 'wasn',\n",
              " \"wasn't\",\n",
              " 'weren',\n",
              " \"weren't\",\n",
              " 'won',\n",
              " \"won't\",\n",
              " 'wouldn',\n",
              " \"wouldn't\"]"
            ]
          },
          "metadata": {},
          "execution_count": 18
        }
      ]
    },
    {
      "cell_type": "markdown",
      "source": [
        "# TF-IDF approach"
      ],
      "metadata": {
        "id": "XtKI9pr252L1"
      }
    },
    {
      "cell_type": "code",
      "source": [
        "from sklearn.feature_extraction.text import TfidfVectorizer"
      ],
      "metadata": {
        "id": "S86p9Mrf51U6"
      },
      "execution_count": null,
      "outputs": []
    },
    {
      "cell_type": "code",
      "source": [
        "# la libreria no me acepta el texto tokenizado, le voy a pasar la funcion.\n",
        "tf_idf = TfidfVectorizer(analyzer='word', tokenizer=process_tweet)\n",
        "# agarra cada palabra y luego se va por el documento contando en cuantos aparece cada palabra etc...ahi saca idf\n",
        "tf_idf.fit(X_train) # IDF - Inverse Document Frequency ----- genera los pesos de cada palabra para que luego yo pueda hacer una transformacion // Hace un conteo interno de manera que luego me permita transformar."
      ],
      "metadata": {
        "id": "pZY9DyGL5uDm",
        "outputId": "1f977543-f001-4258-c99a-81c5ee5c50d2",
        "colab": {
          "base_uri": "https://localhost:8080/",
          "height": 109
        }
      },
      "execution_count": null,
      "outputs": [
        {
          "output_type": "stream",
          "name": "stderr",
          "text": [
            "/usr/local/lib/python3.10/dist-packages/sklearn/feature_extraction/text.py:528: UserWarning: The parameter 'token_pattern' will not be used since 'tokenizer' is not None'\n",
            "  warnings.warn(\n"
          ]
        },
        {
          "output_type": "execute_result",
          "data": {
            "text/plain": [
              "TfidfVectorizer(tokenizer=<function process_tweet at 0x7ef528f20ca0>)"
            ],
            "text/html": [
              "<style>#sk-container-id-1 {color: black;background-color: white;}#sk-container-id-1 pre{padding: 0;}#sk-container-id-1 div.sk-toggleable {background-color: white;}#sk-container-id-1 label.sk-toggleable__label {cursor: pointer;display: block;width: 100%;margin-bottom: 0;padding: 0.3em;box-sizing: border-box;text-align: center;}#sk-container-id-1 label.sk-toggleable__label-arrow:before {content: \"▸\";float: left;margin-right: 0.25em;color: #696969;}#sk-container-id-1 label.sk-toggleable__label-arrow:hover:before {color: black;}#sk-container-id-1 div.sk-estimator:hover label.sk-toggleable__label-arrow:before {color: black;}#sk-container-id-1 div.sk-toggleable__content {max-height: 0;max-width: 0;overflow: hidden;text-align: left;background-color: #f0f8ff;}#sk-container-id-1 div.sk-toggleable__content pre {margin: 0.2em;color: black;border-radius: 0.25em;background-color: #f0f8ff;}#sk-container-id-1 input.sk-toggleable__control:checked~div.sk-toggleable__content {max-height: 200px;max-width: 100%;overflow: auto;}#sk-container-id-1 input.sk-toggleable__control:checked~label.sk-toggleable__label-arrow:before {content: \"▾\";}#sk-container-id-1 div.sk-estimator input.sk-toggleable__control:checked~label.sk-toggleable__label {background-color: #d4ebff;}#sk-container-id-1 div.sk-label input.sk-toggleable__control:checked~label.sk-toggleable__label {background-color: #d4ebff;}#sk-container-id-1 input.sk-hidden--visually {border: 0;clip: rect(1px 1px 1px 1px);clip: rect(1px, 1px, 1px, 1px);height: 1px;margin: -1px;overflow: hidden;padding: 0;position: absolute;width: 1px;}#sk-container-id-1 div.sk-estimator {font-family: monospace;background-color: #f0f8ff;border: 1px dotted black;border-radius: 0.25em;box-sizing: border-box;margin-bottom: 0.5em;}#sk-container-id-1 div.sk-estimator:hover {background-color: #d4ebff;}#sk-container-id-1 div.sk-parallel-item::after {content: \"\";width: 100%;border-bottom: 1px solid gray;flex-grow: 1;}#sk-container-id-1 div.sk-label:hover label.sk-toggleable__label {background-color: #d4ebff;}#sk-container-id-1 div.sk-serial::before {content: \"\";position: absolute;border-left: 1px solid gray;box-sizing: border-box;top: 0;bottom: 0;left: 50%;z-index: 0;}#sk-container-id-1 div.sk-serial {display: flex;flex-direction: column;align-items: center;background-color: white;padding-right: 0.2em;padding-left: 0.2em;position: relative;}#sk-container-id-1 div.sk-item {position: relative;z-index: 1;}#sk-container-id-1 div.sk-parallel {display: flex;align-items: stretch;justify-content: center;background-color: white;position: relative;}#sk-container-id-1 div.sk-item::before, #sk-container-id-1 div.sk-parallel-item::before {content: \"\";position: absolute;border-left: 1px solid gray;box-sizing: border-box;top: 0;bottom: 0;left: 50%;z-index: -1;}#sk-container-id-1 div.sk-parallel-item {display: flex;flex-direction: column;z-index: 1;position: relative;background-color: white;}#sk-container-id-1 div.sk-parallel-item:first-child::after {align-self: flex-end;width: 50%;}#sk-container-id-1 div.sk-parallel-item:last-child::after {align-self: flex-start;width: 50%;}#sk-container-id-1 div.sk-parallel-item:only-child::after {width: 0;}#sk-container-id-1 div.sk-dashed-wrapped {border: 1px dashed gray;margin: 0 0.4em 0.5em 0.4em;box-sizing: border-box;padding-bottom: 0.4em;background-color: white;}#sk-container-id-1 div.sk-label label {font-family: monospace;font-weight: bold;display: inline-block;line-height: 1.2em;}#sk-container-id-1 div.sk-label-container {text-align: center;}#sk-container-id-1 div.sk-container {/* jupyter's `normalize.less` sets `[hidden] { display: none; }` but bootstrap.min.css set `[hidden] { display: none !important; }` so we also need the `!important` here to be able to override the default hidden behavior on the sphinx rendered scikit-learn.org. See: https://github.com/scikit-learn/scikit-learn/issues/21755 */display: inline-block !important;position: relative;}#sk-container-id-1 div.sk-text-repr-fallback {display: none;}</style><div id=\"sk-container-id-1\" class=\"sk-top-container\"><div class=\"sk-text-repr-fallback\"><pre>TfidfVectorizer(tokenizer=&lt;function process_tweet at 0x7ef528f20ca0&gt;)</pre><b>In a Jupyter environment, please rerun this cell to show the HTML representation or trust the notebook. <br />On GitHub, the HTML representation is unable to render, please try loading this page with nbviewer.org.</b></div><div class=\"sk-container\" hidden><div class=\"sk-item\"><div class=\"sk-estimator sk-toggleable\"><input class=\"sk-toggleable__control sk-hidden--visually\" id=\"sk-estimator-id-1\" type=\"checkbox\" checked><label for=\"sk-estimator-id-1\" class=\"sk-toggleable__label sk-toggleable__label-arrow\">TfidfVectorizer</label><div class=\"sk-toggleable__content\"><pre>TfidfVectorizer(tokenizer=&lt;function process_tweet at 0x7ef528f20ca0&gt;)</pre></div></div></div></div></div>"
            ]
          },
          "metadata": {},
          "execution_count": 20
        }
      ]
    },
    {
      "cell_type": "code",
      "source": [
        "X_train[10]"
      ],
      "metadata": {
        "id": "T6klboWgTyqI",
        "outputId": "2621ce6e-8203-48c5-c5b9-e1185df0c559",
        "colab": {
          "base_uri": "https://localhost:8080/",
          "height": 35
        }
      },
      "execution_count": null,
      "outputs": [
        {
          "output_type": "execute_result",
          "data": {
            "text/plain": [
              "'@inespsousa9 not me! :('"
            ],
            "application/vnd.google.colaboratory.intrinsic+json": {
              "type": "string"
            }
          },
          "metadata": {},
          "execution_count": 21
        }
      ]
    },
    {
      "cell_type": "code",
      "source": [
        "# ahora transformo los datos de train a una representacion numerica // ahora saca la frecuencia de cada palabtra en cada doc y la multiplica por idf de esa palabra\n",
        "# y contruye un version numerica del tweet\n",
        "training_vectors = tf_idf.transform(X_train)"
      ],
      "metadata": {
        "id": "6h6nK3pjDW2f"
      },
      "execution_count": null,
      "outputs": []
    },
    {
      "cell_type": "code",
      "source": [
        "# no me la muestra porqye es una matriz dispersa, puede tener muchos ceros.\n",
        "training_vectors"
      ],
      "metadata": {
        "colab": {
          "base_uri": "https://localhost:8080/"
        },
        "id": "m9eiPHAOExZO",
        "outputId": "14cfbc62-cdf8-46c2-d4b6-cb689235007f"
      },
      "execution_count": null,
      "outputs": [
        {
          "output_type": "execute_result",
          "data": {
            "text/plain": [
              "<8000x9088 sparse matrix of type '<class 'numpy.float64'>'\n",
              "\twith 51768 stored elements in Compressed Sparse Row format>"
            ]
          },
          "metadata": {},
          "execution_count": 23
        }
      ]
    },
    {
      "cell_type": "code",
      "source": [
        "X_train[10]"
      ],
      "metadata": {
        "id": "JdUNMBd2BeqJ",
        "outputId": "e2180d5b-fc47-4604-8420-831c7d197a33",
        "colab": {
          "base_uri": "https://localhost:8080/",
          "height": 35
        }
      },
      "execution_count": null,
      "outputs": [
        {
          "output_type": "execute_result",
          "data": {
            "text/plain": [
              "'@inespsousa9 not me! :('"
            ],
            "application/vnd.google.colaboratory.intrinsic+json": {
              "type": "string"
            }
          },
          "metadata": {},
          "execution_count": 24
        }
      ]
    },
    {
      "cell_type": "markdown",
      "source": [],
      "metadata": {
        "id": "tcPucLzZCELo"
      }
    },
    {
      "cell_type": "code",
      "source": [
        "#El tweet anterior solo tiene 4 tokken de los 9088 del vocabulario (0,0,0,0,0,0,0,0,0,0,0,0,0,0,0,0,0,5.656,0,0,0,0,0,0,0,0,0...) matrix sparse\n",
        "len(tf_idf.vocabulary_)"
      ],
      "metadata": {
        "id": "q73jW1cYBkof",
        "outputId": "dec6391e-e67c-4d14-d96d-53470c5e9e2c",
        "colab": {
          "base_uri": "https://localhost:8080/"
        }
      },
      "execution_count": null,
      "outputs": [
        {
          "output_type": "execute_result",
          "data": {
            "text/plain": [
              "9088"
            ]
          },
          "metadata": {},
          "execution_count": 25
        }
      ]
    },
    {
      "cell_type": "markdown",
      "source": [
        "# K-NN Model"
      ],
      "metadata": {
        "id": "tAFimL2pHILh"
      }
    },
    {
      "cell_type": "code",
      "source": [
        "from sklearn.neighbors import NearestNeighbors"
      ],
      "metadata": {
        "id": "ayNog0XFGX7W"
      },
      "execution_count": null,
      "outputs": []
    },
    {
      "cell_type": "code",
      "source": [
        "nbrs = NearestNeighbors(n_neighbors=3).fit(training_vectors)"
      ],
      "metadata": {
        "id": "oPltWJ43HLYt"
      },
      "execution_count": null,
      "outputs": []
    },
    {
      "cell_type": "markdown",
      "source": [
        "# Logistic Regression"
      ],
      "metadata": {
        "id": "LJQimC47IQW4"
      }
    },
    {
      "cell_type": "code",
      "source": [
        "# para dos clases se sabe usar una regresion logistica\n",
        "from sklearn.linear_model import LogisticRegression"
      ],
      "metadata": {
        "id": "uroEiMuZISu5"
      },
      "execution_count": null,
      "outputs": []
    },
    {
      "cell_type": "code",
      "source": [
        "clf = LogisticRegression(C=1, tol=0.1)"
      ],
      "metadata": {
        "id": "BnTr00AdIlcj"
      },
      "execution_count": null,
      "outputs": []
    },
    {
      "cell_type": "code",
      "source": [
        "clf.fit(training_vectors, y_train)"
      ],
      "metadata": {
        "colab": {
          "base_uri": "https://localhost:8080/",
          "height": 109
        },
        "id": "m49VDTr2IqPw",
        "outputId": "6bbbbab4-6fb2-46d0-af9f-bd4d709865cd"
      },
      "execution_count": null,
      "outputs": [
        {
          "output_type": "stream",
          "name": "stderr",
          "text": [
            "/usr/local/lib/python3.10/dist-packages/sklearn/utils/validation.py:1143: DataConversionWarning: A column-vector y was passed when a 1d array was expected. Please change the shape of y to (n_samples, ), for example using ravel().\n",
            "  y = column_or_1d(y, warn=True)\n"
          ]
        },
        {
          "output_type": "execute_result",
          "data": {
            "text/plain": [
              "LogisticRegression(C=1, tol=0.1)"
            ],
            "text/html": [
              "<style>#sk-container-id-2 {color: black;background-color: white;}#sk-container-id-2 pre{padding: 0;}#sk-container-id-2 div.sk-toggleable {background-color: white;}#sk-container-id-2 label.sk-toggleable__label {cursor: pointer;display: block;width: 100%;margin-bottom: 0;padding: 0.3em;box-sizing: border-box;text-align: center;}#sk-container-id-2 label.sk-toggleable__label-arrow:before {content: \"▸\";float: left;margin-right: 0.25em;color: #696969;}#sk-container-id-2 label.sk-toggleable__label-arrow:hover:before {color: black;}#sk-container-id-2 div.sk-estimator:hover label.sk-toggleable__label-arrow:before {color: black;}#sk-container-id-2 div.sk-toggleable__content {max-height: 0;max-width: 0;overflow: hidden;text-align: left;background-color: #f0f8ff;}#sk-container-id-2 div.sk-toggleable__content pre {margin: 0.2em;color: black;border-radius: 0.25em;background-color: #f0f8ff;}#sk-container-id-2 input.sk-toggleable__control:checked~div.sk-toggleable__content {max-height: 200px;max-width: 100%;overflow: auto;}#sk-container-id-2 input.sk-toggleable__control:checked~label.sk-toggleable__label-arrow:before {content: \"▾\";}#sk-container-id-2 div.sk-estimator input.sk-toggleable__control:checked~label.sk-toggleable__label {background-color: #d4ebff;}#sk-container-id-2 div.sk-label input.sk-toggleable__control:checked~label.sk-toggleable__label {background-color: #d4ebff;}#sk-container-id-2 input.sk-hidden--visually {border: 0;clip: rect(1px 1px 1px 1px);clip: rect(1px, 1px, 1px, 1px);height: 1px;margin: -1px;overflow: hidden;padding: 0;position: absolute;width: 1px;}#sk-container-id-2 div.sk-estimator {font-family: monospace;background-color: #f0f8ff;border: 1px dotted black;border-radius: 0.25em;box-sizing: border-box;margin-bottom: 0.5em;}#sk-container-id-2 div.sk-estimator:hover {background-color: #d4ebff;}#sk-container-id-2 div.sk-parallel-item::after {content: \"\";width: 100%;border-bottom: 1px solid gray;flex-grow: 1;}#sk-container-id-2 div.sk-label:hover label.sk-toggleable__label {background-color: #d4ebff;}#sk-container-id-2 div.sk-serial::before {content: \"\";position: absolute;border-left: 1px solid gray;box-sizing: border-box;top: 0;bottom: 0;left: 50%;z-index: 0;}#sk-container-id-2 div.sk-serial {display: flex;flex-direction: column;align-items: center;background-color: white;padding-right: 0.2em;padding-left: 0.2em;position: relative;}#sk-container-id-2 div.sk-item {position: relative;z-index: 1;}#sk-container-id-2 div.sk-parallel {display: flex;align-items: stretch;justify-content: center;background-color: white;position: relative;}#sk-container-id-2 div.sk-item::before, #sk-container-id-2 div.sk-parallel-item::before {content: \"\";position: absolute;border-left: 1px solid gray;box-sizing: border-box;top: 0;bottom: 0;left: 50%;z-index: -1;}#sk-container-id-2 div.sk-parallel-item {display: flex;flex-direction: column;z-index: 1;position: relative;background-color: white;}#sk-container-id-2 div.sk-parallel-item:first-child::after {align-self: flex-end;width: 50%;}#sk-container-id-2 div.sk-parallel-item:last-child::after {align-self: flex-start;width: 50%;}#sk-container-id-2 div.sk-parallel-item:only-child::after {width: 0;}#sk-container-id-2 div.sk-dashed-wrapped {border: 1px dashed gray;margin: 0 0.4em 0.5em 0.4em;box-sizing: border-box;padding-bottom: 0.4em;background-color: white;}#sk-container-id-2 div.sk-label label {font-family: monospace;font-weight: bold;display: inline-block;line-height: 1.2em;}#sk-container-id-2 div.sk-label-container {text-align: center;}#sk-container-id-2 div.sk-container {/* jupyter's `normalize.less` sets `[hidden] { display: none; }` but bootstrap.min.css set `[hidden] { display: none !important; }` so we also need the `!important` here to be able to override the default hidden behavior on the sphinx rendered scikit-learn.org. See: https://github.com/scikit-learn/scikit-learn/issues/21755 */display: inline-block !important;position: relative;}#sk-container-id-2 div.sk-text-repr-fallback {display: none;}</style><div id=\"sk-container-id-2\" class=\"sk-top-container\"><div class=\"sk-text-repr-fallback\"><pre>LogisticRegression(C=1, tol=0.1)</pre><b>In a Jupyter environment, please rerun this cell to show the HTML representation or trust the notebook. <br />On GitHub, the HTML representation is unable to render, please try loading this page with nbviewer.org.</b></div><div class=\"sk-container\" hidden><div class=\"sk-item\"><div class=\"sk-estimator sk-toggleable\"><input class=\"sk-toggleable__control sk-hidden--visually\" id=\"sk-estimator-id-2\" type=\"checkbox\" checked><label for=\"sk-estimator-id-2\" class=\"sk-toggleable__label sk-toggleable__label-arrow\">LogisticRegression</label><div class=\"sk-toggleable__content\"><pre>LogisticRegression(C=1, tol=0.1)</pre></div></div></div></div></div>"
            ]
          },
          "metadata": {},
          "execution_count": 28
        }
      ]
    },
    {
      "cell_type": "code",
      "source": [
        "# debemos usar los datos de test, pero antes debemos vectorizarlos..para uso practico, solo usamos el data de entrenamiento.\n",
        "y_train_pred = clf.predict(training_vectors)"
      ],
      "metadata": {
        "id": "f1GsaWHgI6qf"
      },
      "execution_count": null,
      "outputs": []
    },
    {
      "cell_type": "code",
      "source": [
        "clf.score(training_vectors, y_train)"
      ],
      "metadata": {
        "colab": {
          "base_uri": "https://localhost:8080/"
        },
        "id": "nQ11ZVqNJagl",
        "outputId": "e704d219-eff6-40af-f783-bfdf92ffb462"
      },
      "execution_count": null,
      "outputs": [
        {
          "output_type": "execute_result",
          "data": {
            "text/plain": [
              "0.999125"
            ]
          },
          "metadata": {},
          "execution_count": 30
        }
      ]
    },
    {
      "cell_type": "markdown",
      "source": [
        "# SVM"
      ],
      "metadata": {
        "id": "HwaeEIOyIJ9n"
      }
    },
    {
      "cell_type": "code",
      "source": [],
      "metadata": {
        "id": "vaSwBICbII7K"
      },
      "execution_count": null,
      "outputs": []
    },
    {
      "cell_type": "code",
      "source": [],
      "metadata": {
        "id": "HzGY8rBEHTqX"
      },
      "execution_count": null,
      "outputs": []
    }
  ]
}